{
 "cells": [
  {
   "cell_type": "code",
   "execution_count": 1,
   "metadata": {
    "scrolled": true
   },
   "outputs": [
    {
     "name": "stdout",
     "output_type": "stream",
     "text": [
      "OpenSSL 1.1.1s  1 Nov 2022\n"
     ]
    }
   ],
   "source": [
    "#libraries for time, REST API, json format, local folders, HMAC, and base64 encoding\n",
    "import sys\n",
    "import time\n",
    "from datetime import datetime, timezone\n",
    "import requests\n",
    "import json\n",
    "from pathlib import Path\n",
    "import ssl\n",
    "print(ssl.OPENSSL_VERSION)\n",
    "import hmac, hashlib\n",
    "import base64\n",
    "import okcoinv5\n",
    "from okcoinv5 import Account, Spot"
   ]
  },
  {
   "cell_type": "code",
   "execution_count": 2,
   "metadata": {},
   "outputs": [
    {
     "name": "stdout",
     "output_type": "stream",
     "text": [
      "GetPass\n",
      "WeAreABitcoinCompany9$\n",
      "GetPass\n",
      "WeAreABitcoinCompany9$\n",
      "<okcoinv5.Account object at 0x00000286563D1070>\n"
     ]
    }
   ],
   "source": [
    "sys.path.append(r'C:\\Users\\dawgface\\anaconda3-2\\Lib\\site-packages\\okcoinv5')\n",
    "\n",
    "\n",
    "acc = Account(r'C:\\Users\\dawgface\\anaconda3-2\\Lib\\site-packages\\okcoinv5\\auth.config')\n",
    "sp = Spot(r'C:\\Users\\dawgface\\anaconda3-2\\Lib\\site-packages\\okcoinv5\\auth.config')\n",
    "\n",
    "print(acc)"
   ]
  },
  {
   "cell_type": "code",
   "execution_count": 3,
   "metadata": {},
   "outputs": [
    {
     "name": "stdout",
     "output_type": "stream",
     "text": [
      "{'spot': 1, 'margin': 5, 'funding': 6, 'trading': 18}\n"
     ]
    }
   ],
   "source": [
    "acc_type = acc.get_account_type()\n",
    "print(acc_type)"
   ]
  },
  {
   "cell_type": "code",
   "execution_count": 6,
   "metadata": {},
   "outputs": [
    {
     "name": "stdout",
     "output_type": "stream",
     "text": [
      "\n",
      "{'code': '0', 'data': [{'bal': '2.28998908', 'balChg': '-44.65389500', 'billId': '550170347299672065', 'ccy': 'USD', 'execType': 'T', 'fee': '0', 'from': '', 'instId': 'BTC-USD', 'instType': 'SPOT', 'mgnMode': 'cash', 'notes': '', 'ordId': '550170347282894848', 'pnl': '0', 'posBal': '0', 'posBalChg': '0', 'subType': '2', 'sz': '44.653895', 'to': '', 'ts': '1677442832467', 'type': '2'}, {'bal': '0.0019062', 'balChg': '0.0018962', 'billId': '550170347299672064', 'ccy': 'BTC', 'execType': 'T', 'fee': '-0.0000038', 'from': '', 'instId': 'BTC-USD', 'instType': 'SPOT', 'mgnMode': 'cash', 'notes': '', 'ordId': '550170347282894848', 'pnl': '0', 'posBal': '0', 'posBalChg': '0', 'subType': '1', 'sz': '0.0019', 'to': '', 'ts': '1677442832467', 'type': '2'}, {'bal': '46.94388408', 'balChg': '23.44842916', 'billId': '550169089872498690', 'ccy': 'USD', 'execType': 'T', 'fee': '-0.04699084', 'from': '', 'instId': 'BTC-USD', 'instType': 'SPOT', 'mgnMode': 'cash', 'notes': '', 'ordId': '550169089847332864', 'pnl': '0', 'posBal': '0', 'posBalChg': '0', 'subType': '1', 'sz': '23.49542', 'to': '', 'ts': '1677442532673', 'type': '2'}, {'bal': '0.00001', 'balChg': '-0.00100', 'billId': '550169089872498688', 'ccy': 'BTC', 'execType': 'T', 'fee': '0', 'from': '', 'instId': 'BTC-USD', 'instType': 'SPOT', 'mgnMode': 'cash', 'notes': '', 'ordId': '550169089847332864', 'pnl': '0', 'posBal': '0', 'posBalChg': '0', 'subType': '2', 'sz': '0.001', 'to': '', 'ts': '1677442532673', 'type': '2'}, {'bal': '0.00101', 'balChg': '0.00101', 'billId': '550168609406586880', 'ccy': 'BTC', 'execType': '', 'fee': '', 'from': '6', 'instId': '', 'instType': '', 'mgnMode': '', 'notes': 'From Funding Account', 'ordId': '', 'pnl': '', 'posBal': '', 'posBalChg': '', 'subType': '11', 'sz': '0.00101', 'to': '18', 'ts': '1677442418121', 'type': '1'}, {'bal': '23.49545492', 'balChg': '23.49545492', 'billId': '550163639202484227', 'ccy': 'USD', 'execType': 'T', 'fee': '-0.04708508', 'from': '', 'instId': 'BTC-USD', 'instType': 'SPOT', 'mgnMode': 'cash', 'notes': '', 'ordId': '550163639173124096', 'pnl': '0', 'posBal': '0', 'posBalChg': '0', 'subType': '1', 'sz': '23.54254', 'to': '', 'ts': '1677441233132', 'type': '2'}, {'bal': '0', 'balChg': '-0.001', 'billId': '550163639202484226', 'ccy': 'BTC', 'execType': 'T', 'fee': '0', 'from': '', 'instId': 'BTC-USD', 'instType': 'SPOT', 'mgnMode': 'cash', 'notes': '', 'ordId': '550163639173124096', 'pnl': '0', 'posBal': '0', 'posBalChg': '0', 'subType': '2', 'sz': '0.001', 'to': '', 'ts': '1677441233132', 'type': '2'}, {'bal': '0.001', 'balChg': '0.001', 'billId': '550157369443618816', 'ccy': 'BTC', 'execType': '', 'fee': '', 'from': '6', 'instId': '', 'instType': '', 'mgnMode': '', 'notes': 'From Funding Account', 'ordId': '', 'pnl': '', 'posBal': '', 'posBalChg': '', 'subType': '11', 'sz': '0.001', 'to': '18', 'ts': '1677439738305', 'type': '1'}], 'msg': ''}\n"
     ]
    }
   ],
   "source": [
    "wallet = sp.get_bills_archive(currency='BTC')\n",
    "print(wallet.json)"
   ]
  },
  {
   "cell_type": "code",
   "execution_count": null,
   "metadata": {},
   "outputs": [],
   "source": [
    "valuation = acc.get_asset_valuation(currency='USD')\n",
    "print(valuation.json)"
   ]
  },
  {
   "cell_type": "code",
   "execution_count": null,
   "metadata": {},
   "outputs": [],
   "source": [
    "deposit_addr = acc.get_deposit_address(currency='BTC')\n",
    "print(deposit_addr.json)\n",
    "print(deposit_addr.df)"
   ]
  },
  {
   "cell_type": "code",
   "execution_count": null,
   "metadata": {},
   "outputs": [],
   "source": [
    "fund_transfer = acc.get_funds_transfer(ccy='BTC',amt='0.00101',origin='6',destination='18')\n",
    "print(fund_transfer.json)"
   ]
  },
  {
   "cell_type": "code",
   "execution_count": null,
   "metadata": {},
   "outputs": [],
   "source": [
    "fund_transfer_state = acc.get_funds_transfer_state(transId=\"3693314\")\n",
    "print(fund_transfer_state.json)"
   ]
  },
  {
   "cell_type": "code",
   "execution_count": 8,
   "metadata": {},
   "outputs": [
    {
     "name": "stdout",
     "output_type": "stream",
     "text": [
      "\n",
      "{'code': '0', 'data': [{'cTime': '1677643886205', 'invoice': 'lnbc100m1p3la5rwpp5ld5w5h2x582yflmm0g2snep3uv57jpc25j78rmr7hcdtsj3sgx7sdqqcqzpgxqrrsssp57rt8htp47u2g3rtkce3zpu9h44cr97qtqf6qqfz97kajamtnqjws9qyyssq39040299ayt4a3522wyaukpjve4yf7katvqxgnxkqtaqzhdvltszudl34qp0pf9h4gqkq330mj5m36de70zn0gqfrsraeg76whx0xxcqcrtujq'}], 'msg': ''}\n"
     ]
    }
   ],
   "source": [
    "lightning = acc.lightning_deposit(amount=.1)\n",
    "print(lightning.json)"
   ]
  },
  {
   "cell_type": "code",
   "execution_count": null,
   "metadata": {},
   "outputs": [],
   "source": [
    "deposit_hist = acc.get_deposit_history(currency='BTC')\n",
    "print(deposit_hist.json)"
   ]
  },
  {
   "cell_type": "code",
   "execution_count": null,
   "metadata": {},
   "outputs": [],
   "source": [
    "order = sp.place_order(side='sell', trading_pair='BTC-USD', limit_or_market='limit',size='0.001', price='50000', client_id='bigtest2')\n",
    "print(order.json)"
   ]
  },
  {
   "cell_type": "code",
   "execution_count": null,
   "metadata": {},
   "outputs": [],
   "source": [
    "subaccount = acc.get_sub_account()\n",
    "print(subaccount.json)"
   ]
  },
  {
   "cell_type": "code",
   "execution_count": null,
   "metadata": {},
   "outputs": [],
   "source": []
  },
  {
   "cell_type": "code",
   "execution_count": null,
   "metadata": {},
   "outputs": [],
   "source": []
  },
  {
   "cell_type": "code",
   "execution_count": null,
   "metadata": {},
   "outputs": [],
   "source": []
  }
 ],
 "metadata": {
  "kernelspec": {
   "display_name": "Python 3 (ipykernel)",
   "language": "python",
   "name": "python3"
  },
  "language_info": {
   "codemirror_mode": {
    "name": "ipython",
    "version": 3
   },
   "file_extension": ".py",
   "mimetype": "text/x-python",
   "name": "python",
   "nbconvert_exporter": "python",
   "pygments_lexer": "ipython3",
   "version": "3.9.13"
  }
 },
 "nbformat": 4,
 "nbformat_minor": 2
}
